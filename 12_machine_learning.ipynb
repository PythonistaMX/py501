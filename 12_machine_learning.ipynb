{
 "cells": [
  {
   "cell_type": "markdown",
   "metadata": {},
   "source": [
    "# Machine Learning."
   ]
  },
  {
   "cell_type": "markdown",
   "metadata": {},
   "source": [
    "## Aprendizaje Estadístico.\n",
    "\n",
    "https://sites.google.com/a/ciencias.unam.mx/statistical_learning/clase\n",
    "\n",
    "El aprendizaje estadístico (Statistical Learning (SL) en inglés) es un vasto conjunto de herramientas cuyo objetivo principal es obtener el mayor conocimiento posible de un conjunto de datos.\n",
    "\n",
    "* Dependiendo del tipo de pregunta que deseamos realizar acerca de la naturaleza de los datos será la técnica que se utilizará.\n",
    "* De manera general, las técnicas de aprendizaje en SL se pueden  clasificar en dos grandes rubros: Supervisado y No Supervisado \n",
    "* Uno de los principales objetivos del SL es el de predicción."
   ]
  },
  {
   "cell_type": "markdown",
   "metadata": {},
   "source": [
    "## Statistical Learning y Machine Learning.\n",
    "\n",
    "* ML es una rama de la Inteligencia Artificial.\n",
    "*  SL surgió como una rama de la Estadística.\n",
    "* Hay mucho en común entre las dos disciplinas, tanto el objetivo\n",
    "principal (predicción), como la clasificacion de problemas\n",
    "(supervisado vs. no supervisado).\n",
    "    * ML : Se enfoca a problemas de gran escala y/o tiempo reducido y está enfocado a soluciones con Exactitud.\n",
    "    * SL enfatiza en los modelos, su interpretación y la medición de su eficacia y está enfocado a soluciones con un balance entre Exactitud y Precisión.\n",
    "* La division entre ambas disciplinas cada ves es más tenue."
   ]
  },
  {
   "cell_type": "markdown",
   "metadata": {},
   "source": [
    "## El ciclo de *Machine Learning*."
   ]
  },
  {
   "cell_type": "markdown",
   "metadata": {},
   "source": [
    "<img src=\"img/01/proceso_de_machine_learning.png\" width=80%>"
   ]
  },
  {
   "cell_type": "markdown",
   "metadata": {},
   "source": [
    "### Selección del modelo.\n",
    "\n",
    "Los modelos en *Machine Learning* son algoritmos y técnicas que permiten \"emular\" un fenómeno a partir de ciertos patrones definidos por atributos (*features*).\n",
    "\n",
    "* Un atributo (*feature*) es una propiedad mesurable o una característica de un fenómeno observado. Por lo general, un atributo es la columna de una tabla. Los atributos al final de cuentas son variables, las cuales penden ser la causa o el efecto de un fenómeno. \n",
    "\n",
    "* El *dataset* de *features* descrito por el modelo se conoce como *feature space*. A un punto dado dentro del *feature space* se le conoce como *k*. \n",
    "\n",
    "\n",
    "* https://youtu.be/s4pVapaE9AY\n",
    "* https://youtu.be/EfjGEs83RtY\n",
    "* https://youtu.be/j1bpJTYdQGE"
   ]
  },
  {
   "cell_type": "markdown",
   "metadata": {},
   "source": [
    "### Entrenamiento del modelo.\n",
    "\n",
    "El proceso de entrenamiento de un modelo consiste en ajustar un modelo a un conjunto de datos."
   ]
  },
  {
   "cell_type": "markdown",
   "metadata": {},
   "source": [
    "### Evaluación.\n",
    "\n",
    "La evaluación sucede una vez que el modelo fue entrenado para ajustarse a un dataset inicial y entonces el modelo se aplica a otros datasets para validar la generalización.\n"
   ]
  },
  {
   "cell_type": "markdown",
   "metadata": {},
   "source": [
    "## Tipos de algoritmos de *ML*.\n",
    "\n",
    "* **Aprendizaje supervisado.** Es un mecanismo que infiere las relaciones inherentes entre los datos observados y una variable dependiente (*label*), lo que podría permitir una predicción.\n",
    "\n",
    "* **Aprendizaje no supervisado.** Son algoritmos diseñados para encontrar las estructurtras en *datasets* que no tienen definidas variables dependientes (*unlabeled*) y en el que se utilizan modelos probabilístivos para describir un fenómeno.\n",
    "\n",
    "* **Metodología de refuerzo del Aprendizaje.** Son algoritmos que permiten adaptar los modelos conforme el entorno cambia."
   ]
  },
  {
   "cell_type": "markdown",
   "metadata": {},
   "source": [
    "## Principales algoritmos de *ML*.\n",
    "\n",
    "https://en.wikipedia.org/wiki/Outline_of_machine_learning#Machine_learning_algorithms"
   ]
  },
  {
   "cell_type": "markdown",
   "metadata": {},
   "source": [
    "### Algoritmos supervisados."
   ]
  },
  {
   "cell_type": "markdown",
   "metadata": {},
   "source": [
    "#### Métodos de regresión.\n",
    "\n",
    "* Regresión lineal.\n",
    "* Regresión logísitca.\n",
    "* Regresión polinomial.\n",
    "* Regresión por pasos.\n",
    "* Regresión Ridge.\n",
    "* Regresión Lasso.\n",
    "* Regresión ElasticNet."
   ]
  },
  {
   "cell_type": "markdown",
   "metadata": {},
   "source": [
    "#### Vecinos cercanos a K (*K Nearest Neighbors*)."
   ]
  },
  {
   "cell_type": "markdown",
   "metadata": {},
   "source": [
    "#### Clasificación por Naive Bayes. "
   ]
  },
  {
   "cell_type": "markdown",
   "metadata": {},
   "source": [
    "#### Support Vector Machines."
   ]
  },
  {
   "cell_type": "markdown",
   "metadata": {},
   "source": [
    "#### Árboles de Decisión."
   ]
  },
  {
   "cell_type": "markdown",
   "metadata": {},
   "source": [
    "### Algoritmos no supervisados."
   ]
  },
  {
   "cell_type": "markdown",
   "metadata": {},
   "source": [
    "#### K Means Clustering. Agrupamiento de promedios de k."
   ]
  },
  {
   "cell_type": "markdown",
   "metadata": {},
   "source": [
    "#### Self-organized Maps. "
   ]
  },
  {
   "cell_type": "markdown",
   "metadata": {},
   "source": [
    "### Redes neuronales."
   ]
  },
  {
   "cell_type": "markdown",
   "metadata": {},
   "source": [
    "<p style=\"text-align: center\"><a rel=\"license\" href=\"http://creativecommons.org/licenses/by/4.0/\"><img alt=\"Licencia Creative Commons\" style=\"border-width:0\" src=\"https://i.creativecommons.org/l/by/4.0/80x15.png\" /></a><br />Esta obra está bajo una <a rel=\"license\" href=\"http://creativecommons.org/licenses/by/4.0/\">Licencia Creative Commons Atribución 4.0 Internacional</a>.</p>\n",
    "<p style=\"text-align: center\">&copy; José Luis Chiquete Valdivieso. 2020.</p>"
   ]
  }
 ],
 "metadata": {
  "kernelspec": {
   "display_name": "R",
   "language": "R",
   "name": "ir"
  },
  "language_info": {
   "codemirror_mode": "r",
   "file_extension": ".r",
   "mimetype": "text/x-r-source",
   "name": "R",
   "pygments_lexer": "r",
   "version": "4.1.2"
  }
 },
 "nbformat": 4,
 "nbformat_minor": 2
}
