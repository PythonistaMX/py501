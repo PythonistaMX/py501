{
 "cells": [
  {
   "cell_type": "markdown",
   "metadata": {},
   "source": [
    "[![img/pythonista.png](img/pythonista.png)](https://www.pythonista.io)"
   ]
  },
  {
   "cell_type": "markdown",
   "metadata": {},
   "source": [
    "# Machine Learning."
   ]
  },
  {
   "cell_type": "markdown",
   "metadata": {},
   "source": [
    "## Aprendizaje Estadístico.\n",
    "\n",
    "https://sites.google.com/a/ciencias.unam.mx/statistical_learning/clase\n",
    "\n",
    "El aprendizaje estadístico (Statistical Learning (SL) en inglés) es un vasto conjunto de herramientas cuyo objetivo principal es obtener el mayor conocimiento posible de un conjunto de datos.\n",
    "\n",
    "* Dependiendo del tipo de pregunta que deseamos realizar acerca de la naturaleza de los datos será la técnica que se utilizará.\n",
    "* De manera general, las técnicas de aprendizaje en SL se pueden  clasificar en dos grandes rubros: Supervisado y No Supervisado \n",
    "* Uno de los principales objetivos del SL es el de predicción."
   ]
  },
  {
   "cell_type": "markdown",
   "metadata": {},
   "source": [
    "## Statistical Learning y Machine Learning.\n",
    "\n",
    "* ML es una rama de la Inteligencia Artificial.\n",
    "*  SL surgió como una rama de la Estadística.\n",
    "* Hay mucho en común entre las dos disciplinas, tanto el objetivo\n",
    "principal (predicción), como la clasificacion de problemas\n",
    "(supervisado vs. no supervisado).\n",
    "    * ML : Se enfoca a problemas de gran escala y/o tiempo reducido y está enfocado a soluciones con Exactitud.\n",
    "    * SL enfatiza en los modelos, su interpretación y la medición de su eficacia y está enfocado a soluciones con un balance entre Exactitud y Precisión.\n",
    "* La division entre ambas disciplinas cada ves es más tenue."
   ]
  },
  {
   "cell_type": "markdown",
   "metadata": {},
   "source": [
    "## El ciclo de *Machine Learning*."
   ]
  },
  {
   "cell_type": "markdown",
   "metadata": {},
   "source": [
    "<img src=\"img/07/proceso_de_machine_learning.png\" width=80%>"
   ]
  },
  {
   "cell_type": "markdown",
   "metadata": {},
   "source": [
    "### Selección del modelo.\n",
    "\n",
    "Los modelos en *Machine Learning* son algoritmos y técnicas que permiten \"emular\" un fenómeno a partir de ciertos patrones definidos por atributos (*features*).\n",
    "\n",
    "* Un atributo (*feature*) es una propiedad mesurable o una característica de un fenómeno observado. Por lo general, un atributo es la columna de una tabla. Los atributos al final de cuentas son variables, las cuales penden ser la causa o el efecto de un fenómeno. \n",
    "\n",
    "* El *dataset* de *features* descrito por el modelo se conoce como *feature space*. A un punto dado dentro del *feature space* se le conoce como *k*. \n",
    "\n",
    "\n",
    "* https://youtu.be/s4pVapaE9AY\n",
    "* https://youtu.be/EfjGEs83RtY\n",
    "* https://youtu.be/j1bpJTYdQGE"
   ]
  },
  {
   "cell_type": "markdown",
   "metadata": {},
   "source": [
    "### Entrenamiento del modelo.\n",
    "\n",
    "El proceso de entrenamiento de un modelo consiste en ajustar un modelo a un conjunto de datos."
   ]
  },
  {
   "cell_type": "markdown",
   "metadata": {},
   "source": [
    "### Evaluación.\n",
    "\n",
    "La evaluación sucede una vez que el modelo fue entrenado para ajustarse a un dataset inicial y entonces el modelo se aplica a otros datasets para validar la generalización.\n"
   ]
  },
  {
   "cell_type": "markdown",
   "metadata": {},
   "source": [
    "## Tipos de algoritmos de *ML*.\n",
    "\n",
    "* **Aprendizaje supervisado.** Es un mecanismo que infiere las relaciones inherentes entre los datos observados y una variable dependiente (*label*), lo que podría permitir una predicción.\n",
    "\n",
    "* **Aprendizaje no supervisado.** Son algoritmos diseñados para encontrar las estructurtras en *datasets* que no tienen definidas variables dependientes (*unlabeled*) y en el que se utilizan modelos probabilístivos para describir un fenómeno.\n",
    "\n",
    "* **Metodología de refuerzo del Aprendizaje.** Son algoritmos que permiten adaptar los modelos conforme el entorno cambia."
   ]
  },
  {
   "cell_type": "markdown",
   "metadata": {},
   "source": [
    "## Principales algoritmos de *ML*.\n",
    "\n",
    "https://en.wikipedia.org/wiki/Outline_of_machine_learning#Machine_learning_algorithms"
   ]
  },
  {
   "cell_type": "markdown",
   "metadata": {},
   "source": [
    "### Algoritmos supervisados."
   ]
  },
  {
   "cell_type": "markdown",
   "metadata": {},
   "source": [
    "Los [alogritmos supervisados](https://es.wikipedia.org/wiki/Aprendizaje_supervisado) son técnicas para deducir una función a partir de datos de entrenamiento.\n",
    "\n",
    "\n",
    "\n",
    "\n",
    "* [Métodos de regresión](https://es.wikipedia.org/wiki/An%C3%A1lisis_de_la_regresi%C3%B3n).\n",
    "    * [*Regresión lineal*](https://es.wikipedia.org/wiki/Regresi%C3%B3n_lineal).\n",
    "    * [*Regresión logísitca*](https://es.wikipedia.org/wiki/Regresi%C3%B3n_log%C3%ADstica).\n",
    "    * [Regresión polinomial](https://es.wikipedia.org/wiki/Regresi%C3%B3n_polinomial).\n",
    "    * [Regresión segmentada](https://es.wikipedia.org/wiki/Regresi%C3%B3n_segmentada).\n",
    "    * [Regresión de arista (*ridge*)](https://es.wikipedia.org/wiki/Regularizaci%C3%B3n_de_T%C3%ADjonov).\n",
    "    * [Regresión Lasso](https://es.wikipedia.org/wiki/LASSO_(estad%C3%ADstica)).\n",
    "* [Vecinos cercanos a K (*K Nearest Neighbors*)](https://es.wikipedia.org/wiki/K_vecinos_m%C3%A1s_pr%C3%B3ximos).\n",
    "* [Clasificador bayesiano ingenuo (*Naive Bayes*)](https://es.wikipedia.org/wiki/Clasificador_bayesiano_ingenuo).\n",
    "* [Máquinas de soporte de vectores (*Support Vector Machines*)](https://es.wikipedia.org/wiki/M%C3%A1quinas_de_vectores_de_soporte).\n",
    "\n",
    "* [Árboles de Decisión](https://es.wikipedia.org/wiki/%C3%81rbol_de_decisi%C3%B3n).\n",
    "\n",
    "https://towardsdatascience.com/overview-of-supervised-machine-learning-algorithms-a5107d036296"
   ]
  },
  {
   "cell_type": "markdown",
   "metadata": {},
   "source": [
    "### Algoritmos no supervisados.\n",
    "\n",
    "[Los algoritmos no supervisados](https://es.wikipedia.org/wiki/Aprendizaje_no_supervisado) son métodos donde un modelo se ajusta a las observaciones. Se distinguen del Aprendizaje supervisado por el hecho de que no hay un conocimiento a priori. \n",
    "\n",
    "En el aprendizaje no supervisado, un conjunto de datos de objetos de entrada es tratado. Así, el aprendizaje no supervisado típicamente trata los objetos de entrada como un conjunto de variables aleatorias, siendo construido un modelo de densidad para el conjunto de datos.\n",
    "\n",
    "* Agrupamiento (*clustering*).\n",
    "* Asociación.\n",
    "* Reducción de dimensiones.\n",
    "\n",
    "https://towardsdatascience.com/the-complete-guide-to-unsupervised-learning-ecf8b676f2af"
   ]
  },
  {
   "cell_type": "markdown",
   "metadata": {},
   "source": [
    "<p style=\"text-align: center\"><a rel=\"license\" href=\"http://creativecommons.org/licenses/by/4.0/\"><img alt=\"Licencia Creative Commons\" style=\"border-width:0\" src=\"https://i.creativecommons.org/l/by/4.0/80x15.png\" /></a><br />Esta obra está bajo una <a rel=\"license\" href=\"http://creativecommons.org/licenses/by/4.0/\">Licencia Creative Commons Atribución 4.0 Internacional</a>.</p>\n",
    "<p style=\"text-align: center\">&copy; José Luis Chiquete Valdivieso. 2023.</p>"
   ]
  }
 ],
 "metadata": {
  "kernelspec": {
   "display_name": "Python 3 (ipykernel)",
   "language": "python",
   "name": "python3"
  },
  "language_info": {
   "codemirror_mode": {
    "name": "ipython",
    "version": 3
   },
   "file_extension": ".py",
   "mimetype": "text/x-python",
   "name": "python",
   "nbconvert_exporter": "python",
   "pygments_lexer": "ipython3",
   "version": "3.10.6"
  }
 },
 "nbformat": 4,
 "nbformat_minor": 4
}
