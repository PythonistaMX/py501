{
 "cells": [
  {
   "cell_type": "markdown",
   "metadata": {},
   "source": [
    "[![img/pythonista.png](img/pythonista.png)](https://www.pythonista.io)"
   ]
  },
  {
   "cell_type": "markdown",
   "metadata": {},
   "source": [
    "# Introducción."
   ]
  },
  {
   "cell_type": "markdown",
   "metadata": {},
   "source": [
    "## El ciclo de vida de los datos."
   ]
  },
  {
   "cell_type": "markdown",
   "metadata": {},
   "source": [
    "Un dato es la representación de una variable que puede ser cuantitativa o cualitativa que indica un valor que se le asigna a las cosas y se representa a través de una secuencia de símbolos, números o letras.\n",
    "\n",
    "A lo largo del tiempo el ser humano ha sido capaz de obtener y crear datos a partir de múltiples fuentes, los cuales han sido preservados en diversos medios que van de las rudimentarias tablillas de arcilla hasta los extensos servicios basados en la nube.\n",
    "\n",
    "Independientemente de la tecnología el ciclo de vida de los datos puede ser descrito de la siguiente forma:"
   ]
  },
  {
   "cell_type": "markdown",
   "metadata": {},
   "source": [
    "<img src=\"img/01/ciclo.png\">"
   ]
  },
  {
   "cell_type": "markdown",
   "metadata": {},
   "source": [
    "## El ciclo de vida desde un punto de vista tecnológico. \n",
    "\n",
    "\n",
    "* Ingesta.\n",
    "* Almacenamiento.\n",
    "* Procesamiento y análisis.\n",
    "* Exploración y visualización.\n",
    "* Modelos predictivos a partir de datos. \n",
    "\n",
    "https://cloud.google.com/architecture/data-lifecycle-cloud-platform\n",
    "\n",
    "<img src=\"img/01/data-lifecycle-1.svg\">"
   ]
  },
  {
   "cell_type": "markdown",
   "metadata": {},
   "source": [
    "<img src=\"img/01/azure-analytics-end-to-end.png\">\n",
    "\n",
    "https://learn.microsoft.com/en-us/azure/architecture/example-scenario/dataplate2e/data-platform-end-to-end?tabs=portal"
   ]
  },
  {
   "cell_type": "markdown",
   "metadata": {},
   "source": [
    "## Especialidades.\n",
    "\n",
    "* **Bases de datos**. Administración, optimización, operación y realización de consultas en gestores de bases de datos.\n",
    "* **Ingeniería de datos**. Diseño, desarrollo y despliegue de pipelines de datos.\n",
    "* **Analítica de datos**. Extracción de fuentes, procesamiento, diseño y producción de informes de los datos.\n",
    "* **Ciencia de datos**. Aplicación de herramientas de aprendizaje estadístico, machine learning y deep learning para el diseño, prueba, validación e implementación de modelos predictivos en un área de negocio."
   ]
  },
  {
   "cell_type": "markdown",
   "metadata": {},
   "source": [
    "### *ETL*, *ELT*, *EL*.\n",
    "\n",
    "Son operaciones de procesamiento de datos donde:\n",
    "\n",
    "* *E* significa \"extraer\". Es decir, adquirir información de una o varias fuentes de datos.\n",
    "    * Por lotes (*batch*). Elementos finitos.\n",
    "    * Por flujo (*stream*). Elementos que no tiene un fin delimitado y son generados/enviados en intervalos generalmente impredecibles.\n",
    "* *L* significa \"cargar\". Es decir, almacenar los elementos en un *data store*.\n",
    "* *T* significa \"transformar\". Es decir, realizar las operaciones necesarias para convertir los datos crudos en datos útiles."
   ]
  },
  {
   "cell_type": "markdown",
   "metadata": {},
   "source": [
    "<p style=\"text-align: center\"><a rel=\"license\" href=\"http://creativecommons.org/licenses/by/4.0/\"><img alt=\"Licencia Creative Commons\" style=\"border-width:0\" src=\"https://i.creativecommons.org/l/by/4.0/80x15.png\" /></a><br />Esta obra está bajo una <a rel=\"license\" href=\"http://creativecommons.org/licenses/by/4.0/\">Licencia Creative Commons Atribución 4.0 Internacional</a>.</p>\n",
    "<p style=\"text-align: center\">&copy; José Luis Chiquete Valdivieso. 2022.</p>"
   ]
  }
 ],
 "metadata": {
  "kernelspec": {
   "display_name": "Python 3 (ipykernel)",
   "language": "python",
   "name": "python3"
  },
  "language_info": {
   "codemirror_mode": {
    "name": "ipython",
    "version": 3
   },
   "file_extension": ".py",
   "mimetype": "text/x-python",
   "name": "python",
   "nbconvert_exporter": "python",
   "pygments_lexer": "ipython3",
   "version": "3.10.6"
  }
 },
 "nbformat": 4,
 "nbformat_minor": 4
}
