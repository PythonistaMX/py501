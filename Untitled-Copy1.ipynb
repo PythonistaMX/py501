{
 "cells": [
  {
   "cell_type": "code",
   "execution_count": null,
   "id": "73e57220-d67f-4508-aca2-0e6cc81788fc",
   "metadata": {
    "scrolled": true
   },
   "outputs": [],
   "source": [
    "import socket"
   ]
  },
  {
   "cell_type": "code",
   "execution_count": null,
   "id": "59b277a7",
   "metadata": {
    "scrolled": true
   },
   "outputs": [],
   "source": [
    "HOST= \"localhost\"\n",
    "PORT = 9999"
   ]
  },
  {
   "cell_type": "code",
   "execution_count": null,
   "id": "ae9daf9a-4263-468e-9f6b-55ff2f1c11bd",
   "metadata": {
    "scrolled": true
   },
   "outputs": [],
   "source": [
    "with socket.socket(socket.AF_INET, socket.SOCK_STREAM) as s:\n",
    "    s.connect((HOST, PORT))\n",
    "    data = s.recv(1024)\n",
    "    print(data)"
   ]
  },
  {
   "cell_type": "code",
   "execution_count": null,
   "id": "c0ac91fc",
   "metadata": {
    "scrolled": true
   },
   "outputs": [],
   "source": []
  },
  {
   "cell_type": "code",
   "execution_count": null,
   "id": "d1aeb8af",
   "metadata": {},
   "outputs": [],
   "source": []
  }
 ],
 "metadata": {
  "kernelspec": {
   "display_name": "Python 3 (ipykernel)",
   "language": "python",
   "name": "python3"
  },
  "language_info": {
   "codemirror_mode": {
    "name": "ipython",
    "version": 3
   },
   "file_extension": ".py",
   "mimetype": "text/x-python",
   "name": "python",
   "nbconvert_exporter": "python",
   "pygments_lexer": "ipython3",
   "version": "3.10.6"
  }
 },
 "nbformat": 4,
 "nbformat_minor": 5
}
