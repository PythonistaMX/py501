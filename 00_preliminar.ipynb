{
 "cells": [
  {
   "cell_type": "markdown",
   "metadata": {},
   "source": [
    "[![img/pythonista.png](img/pythonista.png)](https://www.pythonista.io)"
   ]
  },
  {
   "cell_type": "markdown",
   "metadata": {},
   "source": [
    "# Peliminar."
   ]
  },
  {
   "cell_type": "markdown",
   "metadata": {},
   "source": [
    "## Acceso a las imágenes de VM"
   ]
  },
  {
   "cell_type": "markdown",
   "metadata": {},
   "source": [
    "Decargue cualquiera de las siguientes imágenes desde https://www.pythonista.io/descargas\n",
    "\n",
    "* ```pythonista-pyspark-L.ova```\n",
    "* ```pythonista-pyspark.ova```\n",
    "\n",
    "Importe la imangen en *Virtualbox*, inicie la *VM* y desde el navegador de su equipo anfitrión acceda a ```http://localhost:8999```. La contraseña es ```Jupyter```.\n",
    "\n",
    "**NOTA:** La imagen ```pythonista-pyspark.ova``` descargará los componentes necesarios para usar *PySpark* por lo que deberá esperar aproximadamente 5-10 minutos dependiendo de su ancho de banda. La imagen ```pythonista-pyspark-L.ova``` ya contiene todo lo necesario, pero es mucho más grande."
   ]
  },
  {
   "cell_type": "markdown",
   "metadata": {},
   "source": [
    "## Acceso al contenedor mediante *Docker*."
   ]
  },
  {
   "cell_type": "markdown",
   "metadata": {},
   "source": [
    "La imagen con *PysPark* del curso está en https://hub.docker.com/r/josechval/pythonista-pyspark"
   ]
  },
  {
   "cell_type": "markdown",
   "metadata": {},
   "source": [
    "### Para acceder desde *GNU/Linux* o *MacOS X*:\n",
    "\n",
    "``` bash\n",
    "docker run --rm -d -v $(pwd):/home/jovyan/work -p 8888:8888 -p 4040:4040 josechval/pythonista-pyspark\n",
    "```\n",
    "Esto levantará un contenedor que conectará la ruta ```/home/jovyan/work``` del contendor al directorio actual del equipo anfitrión.\n",
    "\n",
    "Desde el navegador de su equipo acceda a ```http://localhost:8888```. La contraseña es ```Jupyter```."
   ]
  },
  {
   "cell_type": "markdown",
   "metadata": {},
   "source": [
    "### Para acceder desde una terminal *Windows*:\n",
    "\n",
    "``` powershell\n",
    "docker run --rm -d -v <RUTA>:/home/jovyan/work -p 8888:8888 -p 4040:4040 josechval/pythonista-pyspark\n",
    "```\n",
    "Esto levantará un contenedor que conectará la ruta ```/home/jovyan/work``` del contendor a la ruta que sustituirá a la cadena ```<RUTA>```.\n",
    "\n",
    "Desde el navegador de su equipo acceda a ```http://localhost:8888```. La contraseña es ```Jupyter```."
   ]
  },
  {
   "cell_type": "markdown",
   "metadata": {},
   "source": [
    "<p style=\"text-align: center\"><a rel=\"license\" href=\"http://creativecommons.org/licenses/by/4.0/\"><img alt=\"Licencia Creative Commons\" style=\"border-width:0\" src=\"https://i.creativecommons.org/l/by/4.0/80x15.png\" /></a><br />Esta obra está bajo una <a rel=\"license\" href=\"http://creativecommons.org/licenses/by/4.0/\">Licencia Creative Commons Atribución 4.0 Internacional</a>.</p>\n",
    "<p style=\"text-align: center\">&copy; José Luis Chiquete Valdivieso. 2022.</p>"
   ]
  }
 ],
 "metadata": {
  "kernelspec": {
   "display_name": "Python 3 (ipykernel)",
   "language": "python",
   "name": "python3"
  },
  "language_info": {
   "codemirror_mode": {
    "name": "ipython",
    "version": 3
   },
   "file_extension": ".py",
   "mimetype": "text/x-python",
   "name": "python",
   "nbconvert_exporter": "python",
   "pygments_lexer": "ipython3",
   "version": "3.10.6"
  }
 },
 "nbformat": 4,
 "nbformat_minor": 4
}
