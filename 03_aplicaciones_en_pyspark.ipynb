{
 "cells": [
  {
   "cell_type": "markdown",
   "id": "33c6751d-98ed-4d53-ab92-df7b431740e4",
   "metadata": {},
   "source": [
    "[![img/pythonista.png](img/pythonista.png)](https://www.pythonista.io)"
   ]
  },
  {
   "cell_type": "markdown",
   "id": "60d3a789-feea-4a05-847c-64f81ae9a16e",
   "metadata": {},
   "source": [
    "# Aplicaciones de *Apache Spark*."
   ]
  },
  {
   "cell_type": "markdown",
   "id": "9ecfd7ea-eea9-423d-8a04-e16272f2ca79",
   "metadata": {},
   "source": [
    "Una aplicación de *Apache Spark* consiste en una ```SparkSession``` que realiza cierto tipo de trabajos (*jobs*)."
   ]
  },
  {
   "cell_type": "markdown",
   "id": "a12d6057-7e55-4f5e-b717-37b1149d448e",
   "metadata": {},
   "source": [
    "## La clase ```pyspark.sql.SparkSession```."
   ]
  },
  {
   "cell_type": "markdown",
   "id": "5f403935",
   "metadata": {},
   "source": [
    "El paquete ```pypasrk.sql``` contiene varios módulos con diversas funcionalidades básicas de ingeniería y analítica de datos, pero además contiene a la clase [```SparkSession```](https://spark.apache.org/docs/latest/api/python/reference/pyspark.sql/api/pyspark.sql.SparkSession.html), la cual permite crear y ejecutar aplicaciones de *Apache Spark*."
   ]
  },
  {
   "cell_type": "markdown",
   "id": "7e46b1ec",
   "metadata": {},
   "source": [
    "### El atributo ```SparkSession.builder```.\n",
    "\n",
    "El atributo ```SparkSession.builder``` también es una clase que al instanciarse con la configuración adecuada, permite crear una conexión a un clúster de *Spark* y ejecutar el código que se le indique.\n",
    "\n",
    "\n",
    "```\n",
    "spark = SparkSession.builder.master(<cluster>).appName(<nombre>).config(<conf>).getOrCreate()\n",
    "```\n",
    "\n",
    "Por convención, al objeto resultante de instanciar ```SparkSession.builder``` se le asigna el nombre ```spark```.\n",
    "\n",
    "https://spark.apache.org/docs/latest/api/python/reference/pyspark.sql/api/pyspark.sql.SparkSession.html"
   ]
  },
  {
   "cell_type": "markdown",
   "id": "1af49223",
   "metadata": {},
   "source": [
    "**Ejemplo:**"
   ]
  },
  {
   "cell_type": "markdown",
   "id": "5f7c717f",
   "metadata": {},
   "source": [
    "* A continuación se iniciará una aplicación de *Spark*  con el nombre ```'Mi primera sesión'```."
   ]
  },
  {
   "cell_type": "code",
   "execution_count": null,
   "id": "4109de1f",
   "metadata": {},
   "outputs": [],
   "source": [
    "from pyspark.sql import SparkSession"
   ]
  },
  {
   "cell_type": "code",
   "execution_count": null,
   "id": "50e0ea38",
   "metadata": {},
   "outputs": [],
   "source": [
    "spark = SparkSession.builder.appName('Mi primera sesión').getOrCreate()"
   ]
  },
  {
   "cell_type": "code",
   "execution_count": null,
   "id": "6b921f8a",
   "metadata": {
    "scrolled": true
   },
   "outputs": [],
   "source": [
    "spark"
   ]
  },
  {
   "cell_type": "code",
   "execution_count": null,
   "id": "90b82f1e",
   "metadata": {
    "scrolled": true
   },
   "outputs": [],
   "source": [
    "print(spark.sparkContext)"
   ]
  },
  {
   "cell_type": "markdown",
   "id": "654c0bbb",
   "metadata": {},
   "source": [
    "* La siguiente celda creará un *RDD* dentro del cluster."
   ]
  },
  {
   "cell_type": "code",
   "execution_count": null,
   "id": "b75830d1",
   "metadata": {},
   "outputs": [],
   "source": [
    "rdd = spark.sparkContext.parallelize([1, 2, 3, 4, 5])"
   ]
  },
  {
   "cell_type": "code",
   "execution_count": null,
   "id": "fcc5dac2",
   "metadata": {},
   "outputs": [],
   "source": [
    "rdd.count()"
   ]
  },
  {
   "cell_type": "code",
   "execution_count": null,
   "id": "ae4ce818",
   "metadata": {},
   "outputs": [],
   "source": [
    "rdd.mean()"
   ]
  },
  {
   "cell_type": "markdown",
   "id": "22ce1198",
   "metadata": {},
   "source": [
    "* Los pasos anteriores levantaron un contexto que puede ser consultado en http://localhost:4040."
   ]
  },
  {
   "cell_type": "markdown",
   "id": "b5d02ed8",
   "metadata": {},
   "source": [
    "* La siguiente celda detendrá a la aplicación."
   ]
  },
  {
   "cell_type": "code",
   "execution_count": null,
   "id": "70a6649a",
   "metadata": {},
   "outputs": [],
   "source": [
    "spark.stop()"
   ]
  },
  {
   "cell_type": "markdown",
   "id": "193627a8-55ac-438f-88a3-e3f66879886e",
   "metadata": {},
   "source": [
    "<p style=\"text-align: center\"><a rel=\"license\" href=\"http://creativecommons.org/licenses/by/4.0/\"><img alt=\"Licencia Creative Commons\" style=\"border-width:0\" src=\"https://i.creativecommons.org/l/by/4.0/80x15.png\" /></a><br />Esta obra está bajo una <a rel=\"license\" href=\"http://creativecommons.org/licenses/by/4.0/\">Licencia Creative Commons Atribución 4.0 Internacional</a>.</p>\n",
    "<p style=\"text-align: center\">&copy; José Luis Chiquete Valdivieso. 2022.</p>"
   ]
  }
 ],
 "metadata": {
  "kernelspec": {
   "display_name": "Python 3 (ipykernel)",
   "language": "python",
   "name": "python3"
  },
  "language_info": {
   "codemirror_mode": {
    "name": "ipython",
    "version": 3
   },
   "file_extension": ".py",
   "mimetype": "text/x-python",
   "name": "python",
   "nbconvert_exporter": "python",
   "pygments_lexer": "ipython3",
   "version": "3.10.6"
  }
 },
 "nbformat": 4,
 "nbformat_minor": 5
}
