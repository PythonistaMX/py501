{
 "cells": [
  {
   "cell_type": "code",
   "execution_count": 4,
   "id": "73e57220-d67f-4508-aca2-0e6cc81788fc",
   "metadata": {},
   "outputs": [],
   "source": [
    "import socket\n",
    "import time"
   ]
  },
  {
   "cell_type": "code",
   "execution_count": 2,
   "id": "ae9daf9a-4263-468e-9f6b-55ff2f1c11bd",
   "metadata": {},
   "outputs": [],
   "source": [
    "s = socket.socket(socket.AF_INET, socket.SOCK_STREAM)\n",
    "s.bind(('localhost', 9999))\n",
    "s.listen(5)"
   ]
  },
  {
   "cell_type": "code",
   "execution_count": null,
   "id": "bd217376-8658-4a38-8ab4-ef6a152e6ef3",
   "metadata": {},
   "outputs": [],
   "source": [
    "with open('data/quijote.txt') as f:\n",
    "    for linea in f:\n",
    "        time.sleep(5)\n",
    "        s.send(linea.encode('utf-8'))"
   ]
  },
  {
   "cell_type": "code",
   "execution_count": null,
   "id": "c10eb1b5-d09b-44eb-9aa3-4790f85cceca",
   "metadata": {},
   "outputs": [],
   "source": []
  }
 ],
 "metadata": {
  "kernelspec": {
   "display_name": "Python 3 (ipykernel)",
   "language": "python",
   "name": "python3"
  },
  "language_info": {
   "codemirror_mode": {
    "name": "ipython",
    "version": 3
   },
   "file_extension": ".py",
   "mimetype": "text/x-python",
   "name": "python",
   "nbconvert_exporter": "python",
   "pygments_lexer": "ipython3",
   "version": "3.10.6"
  }
 },
 "nbformat": 4,
 "nbformat_minor": 5
}
